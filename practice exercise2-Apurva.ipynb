{
 "cells": [
  {
   "cell_type": "code",
   "execution_count": 1,
   "id": "d0d4e1eb",
   "metadata": {},
   "outputs": [],
   "source": [
    "##exercise_3 continued.....from question 6"
   ]
  },
  {
   "cell_type": "code",
   "execution_count": 4,
   "id": "48e2ecf1",
   "metadata": {},
   "outputs": [
    {
     "name": "stdout",
     "output_type": "stream",
     "text": [
      "Number is smaller than 10\n",
      "This statement will always be executed\n"
     ]
    }
   ],
   "source": [
    "#check whether given number is smaller than 10\n",
    "\n",
    "num=5\n",
    "if num<10:\n",
    "    print('Number is smaller than 10')\n",
    "print('This statement will always be executed')"
   ]
  },
  {
   "cell_type": "code",
   "execution_count": 7,
   "id": "0767655b",
   "metadata": {},
   "outputs": [
    {
     "name": "stdout",
     "output_type": "stream",
     "text": [
      "Enter passing score:60\n",
      "Enter my score:55\n",
      "You need to work hard\n"
     ]
    }
   ],
   "source": [
    "#input passing_score and my_score and check whether student passed or not\n",
    "\n",
    "passing_score=float(input('Enter passing score:'))\n",
    "my_score=float(input('Enter my score:'))\n",
    "if my_score>=passing_score:\n",
    "    print('Congratulations! You have passed your exam')\n",
    "else:\n",
    "    print('You need to work hard')"
   ]
  },
  {
   "cell_type": "code",
   "execution_count": 10,
   "id": "b78f79cf",
   "metadata": {},
   "outputs": [
    {
     "name": "stdout",
     "output_type": "stream",
     "text": [
      "Enter my score:80\n",
      "Congratulations! You have passed your exam\n"
     ]
    }
   ],
   "source": [
    "#Only input my_score and check whether student got more than or equal to 60 to pass or not\n",
    "\n",
    "my_score=float(input('Enter my score:'))\n",
    "if my_score>=60:\n",
    "    print('Congratulations! You have passed your exam')\n",
    "else:\n",
    "    print('You need to work hard')"
   ]
  },
  {
   "cell_type": "code",
   "execution_count": 13,
   "id": "7e8b88ed",
   "metadata": {},
   "outputs": [
    {
     "name": "stdout",
     "output_type": "stream",
     "text": [
      "Number is positive\n",
      "Number is less than 10\n"
     ]
    }
   ],
   "source": [
    "#check whether given number is positive and less than 10\n",
    "\n",
    "num=5\n",
    "if num>=0:\n",
    "    print('Number is positive')\n",
    "    if num<10:\n",
    "        print('Number is less than 10')"
   ]
  },
  {
   "cell_type": "code",
   "execution_count": 15,
   "id": "f188a555",
   "metadata": {},
   "outputs": [
    {
     "name": "stdout",
     "output_type": "stream",
     "text": [
      "Enter a number:3\n",
      "Number is greater than zero\n"
     ]
    }
   ],
   "source": [
    "#input a number and check if it is equal to zero and greater than zero\n",
    "#only print greater than zero\n",
    "\n",
    "n=float(input('Enter a number:'))\n",
    "if n!=0:\n",
    "    if n>0:\n",
    "        print('Number is greater than zero')"
   ]
  },
  {
   "cell_type": "code",
   "execution_count": 3,
   "id": "555b2d61",
   "metadata": {},
   "outputs": [
    {
     "name": "stdout",
     "output_type": "stream",
     "text": [
      "Enter first number:10\n",
      "Enter second number:20\n",
      "Enter third number:30\n",
      "All the conditions are true\n"
     ]
    }
   ],
   "source": [
    "#input 3 numbers as num1, num2,num3 and check condition for all using 'and' operator\n",
    "\n",
    "num1=float(input('Enter first number:'))\n",
    "num2=float(input('Enter second number:'))\n",
    "num3=float(input('Enter third number:'))\n",
    "if(num1==10) and (num2==20) and (num3==30):\n",
    "    print('All the conditions are true')"
   ]
  },
  {
   "cell_type": "code",
   "execution_count": 6,
   "id": "970e61cd",
   "metadata": {},
   "outputs": [
    {
     "name": "stdout",
     "output_type": "stream",
     "text": [
      "Enter name of a fruit:Grapes\n",
      "It's a fruit\n"
     ]
    }
   ],
   "source": [
    "#input fruits as fruitName and check condition if mango,apple or grapes using 'or' operator\n",
    "\n",
    "fruitName=str(input('Enter name of a fruit:'))\n",
    "if fruitName==\"Mango\" or fruitName==\"Apple\" or fruitName==\"Grapes\":\n",
    "    print(\"It's a fruit\")"
   ]
  },
  {
   "cell_type": "code",
   "execution_count": null,
   "id": "ec1d31e6",
   "metadata": {},
   "outputs": [],
   "source": [
    "##exercise_4"
   ]
  },
  {
   "cell_type": "code",
   "execution_count": 3,
   "id": "95e14399",
   "metadata": {},
   "outputs": [
    {
     "name": "stdout",
     "output_type": "stream",
     "text": [
      "Enter a number:56\n",
      "Enter a number:44\n",
      "Enter a number:32\n",
      "Enter a number:12\n",
      "Enter a number:9\n",
      "Average is: 30.6\n"
     ]
    }
   ],
   "source": [
    "#to find average of a set of integers, we take 5\n",
    "\n",
    "sum=0\n",
    "count=0\n",
    "for i in range(5):\n",
    "    i=int(input('Enter a number:'))\n",
    "    count=count+1\n",
    "    if i==0:\n",
    "        break\n",
    "    else:\n",
    "        sum=sum+i\n",
    "        avg=sum/count\n",
    "print(\"Average is:\",avg)"
   ]
  },
  {
   "cell_type": "code",
   "execution_count": 7,
   "id": "378518b4",
   "metadata": {},
   "outputs": [
    {
     "name": "stdout",
     "output_type": "stream",
     "text": [
      "Input name of a fruit: apple\n",
      "Input name of a fruit: guava\n",
      "Input name of a fruit: mango\n",
      "Input name of a fruit: orange\n",
      "Input name of a fruit: grapes\n",
      "List of fruits : ['apple', 'guava', 'mango', 'orange', 'grapes']\n"
     ]
    }
   ],
   "source": [
    "#make a list of 5 fruits using for loop\n",
    "\n",
    "fruit_list=[]\n",
    "for i in range(5):\n",
    "    i=str(input('Input name of a fruit: '))\n",
    "    fruit_list.append(i)\n",
    "print('List of fruits :',fruit_list)"
   ]
  },
  {
   "cell_type": "code",
   "execution_count": null,
   "id": "207698c0",
   "metadata": {},
   "outputs": [],
   "source": []
  }
 ],
 "metadata": {
  "kernelspec": {
   "display_name": "Python 3",
   "language": "python",
   "name": "python3"
  },
  "language_info": {
   "codemirror_mode": {
    "name": "ipython",
    "version": 3
   },
   "file_extension": ".py",
   "mimetype": "text/x-python",
   "name": "python",
   "nbconvert_exporter": "python",
   "pygments_lexer": "ipython3",
   "version": "3.8.8"
  }
 },
 "nbformat": 4,
 "nbformat_minor": 5
}
