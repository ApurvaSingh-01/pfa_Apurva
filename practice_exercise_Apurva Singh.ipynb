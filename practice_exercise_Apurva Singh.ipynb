{
 "cells": [
  {
   "cell_type": "code",
   "execution_count": 16,
   "id": "6e719cbd",
   "metadata": {},
   "outputs": [],
   "source": [
    "##exercise_1"
   ]
  },
  {
   "cell_type": "code",
   "execution_count": 15,
   "id": "7ea6252a",
   "metadata": {},
   "outputs": [
    {
     "name": "stdout",
     "output_type": "stream",
     "text": [
      "17\n"
     ]
    }
   ],
   "source": [
    "#print sum of 7 and 10\n",
    "print(7+10)"
   ]
  },
  {
   "cell_type": "code",
   "execution_count": 5,
   "id": "d394fde2",
   "metadata": {},
   "outputs": [
    {
     "name": "stdout",
     "output_type": "stream",
     "text": [
      "10\n",
      "0\n"
     ]
    }
   ],
   "source": [
    "#print sum and difference of 5 and 5\n",
    "print(5+5)\n",
    "print(5-5)"
   ]
  },
  {
   "cell_type": "code",
   "execution_count": 6,
   "id": "4eb28a08",
   "metadata": {},
   "outputs": [
    {
     "name": "stdout",
     "output_type": "stream",
     "text": [
      "15\n",
      "5.0\n",
      "4\n",
      "16\n"
     ]
    }
   ],
   "source": [
    "#print product of 3 and 5\n",
    "print(3*5)\n",
    "#print quotient of 10 divided by 2\n",
    "print(10/2)\n",
    "#print remainder of 18 and 7\n",
    "print(18%7)\n",
    "#print 4 to the the power 2\n",
    "print(4**2)"
   ]
  },
  {
   "cell_type": "code",
   "execution_count": 8,
   "id": "d6dc1c4d",
   "metadata": {},
   "outputs": [
    {
     "name": "stdout",
     "output_type": "stream",
     "text": [
      "1750\n",
      "6750\n"
     ]
    }
   ],
   "source": [
    "#finding simple interest for John\n",
    "p=5000\n",
    "r=0.07\n",
    "t=5\n",
    "si=int(p*r*t)\n",
    "print(si)\n",
    "#total value in savings account\n",
    "tv=p+si\n",
    "print(tv)"
   ]
  },
  {
   "cell_type": "code",
   "execution_count": 9,
   "id": "fb29d8a3",
   "metadata": {},
   "outputs": [
    {
     "name": "stdout",
     "output_type": "stream",
     "text": [
      "7.0\n"
     ]
    }
   ],
   "source": [
    "#finding time taken to earn simple interest for Sally\n",
    "p=8000\n",
    "r=0.087\n",
    "i=4872\n",
    "t=i/(p*r)\n",
    "print(t)"
   ]
  },
  {
   "cell_type": "code",
   "execution_count": 10,
   "id": "2d94f8b1",
   "metadata": {},
   "outputs": [
    {
     "name": "stdout",
     "output_type": "stream",
     "text": [
      "6.4\n"
     ]
    }
   ],
   "source": [
    "#finding rate of interest for Marie\n",
    "p=3000\n",
    "t=4\n",
    "i=768\n",
    "r=i/(p*t)\n",
    "print(r*100)"
   ]
  },
  {
   "cell_type": "code",
   "execution_count": 13,
   "id": "466b7ec2",
   "metadata": {},
   "outputs": [
    {
     "name": "stdout",
     "output_type": "stream",
     "text": [
      "194.87171000000012\n"
     ]
    }
   ],
   "source": [
    "#calculate amount without assigning values to variables\n",
    "\n",
    "print(100*(1+0.10)**7)"
   ]
  },
  {
   "cell_type": "code",
   "execution_count": 17,
   "id": "c1b53798",
   "metadata": {},
   "outputs": [],
   "source": [
    "##exercise_2"
   ]
  },
  {
   "cell_type": "code",
   "execution_count": 14,
   "id": "1be7e8a4",
   "metadata": {},
   "outputs": [
    {
     "name": "stdout",
     "output_type": "stream",
     "text": [
      "100\n",
      "194.87171000000012\n"
     ]
    }
   ],
   "source": [
    "#creating variable savings and printing it\n",
    "savings=100\n",
    "print(savings)\n",
    "\n",
    "#creating variable growth_multiplier and assigning value to it\n",
    "growth_multiplier=1.1\n",
    "#calculating result\n",
    "result=savings*growth_multiplier**7\n",
    "#print result\n",
    "print(result)"
   ]
  },
  {
   "cell_type": "code",
   "execution_count": 44,
   "id": "bb571529",
   "metadata": {},
   "outputs": [],
   "source": [
    "#creating string variable desc\n",
    "desc=\"compound interest\"\n",
    "#creating a boolean variable profitable\n",
    "profitable=True"
   ]
  },
  {
   "cell_type": "code",
   "execution_count": 47,
   "id": "34fcec3f",
   "metadata": {},
   "outputs": [
    {
     "name": "stdout",
     "output_type": "stream",
     "text": [
      "<class 'float'>\n",
      "<class 'str'>\n",
      "<class 'bool'>\n",
      "<class 'bool'>\n",
      "<class 'float'>\n"
     ]
    },
    {
     "data": {
      "text/plain": [
       "int"
      ]
     },
     "execution_count": 47,
     "metadata": {},
     "output_type": "execute_result"
    }
   ],
   "source": [
    "#Assigning value to variables\n",
    "A=10.7\n",
    "B=\"This is python course\"\n",
    "C=False\n",
    "#checking the type of the variables A,B and C\n",
    "print(type(A))\n",
    "print(type(B))\n",
    "print(type(C))\n",
    "#checking type of variables profitable and growth_multiplier\n",
    "print(type(profitable))\n",
    "print(type(growth_multiplier))\n",
    "#checking type of variables savings\n",
    "type(savings)"
   ]
  },
  {
   "cell_type": "code",
   "execution_count": 25,
   "id": "59a371e6",
   "metadata": {},
   "outputs": [
    {
     "name": "stdout",
     "output_type": "stream",
     "text": [
      "<class 'float'>\n"
     ]
    }
   ],
   "source": [
    "#finding product of savings and growth_multiplier and storing it in year1\n",
    "year1=savings*growth_multiplier\n",
    "#printing type of year1\n",
    "print(type(year1))"
   ]
  },
  {
   "cell_type": "code",
   "execution_count": 26,
   "id": "2b57fe5b",
   "metadata": {},
   "outputs": [
    {
     "name": "stdout",
     "output_type": "stream",
     "text": [
      "compound interestcompound interest\n"
     ]
    }
   ],
   "source": [
    "#assigning sum of desc and desc to doubledesc\n",
    "doubledesc=desc+desc\n",
    "#printing doubledesc\n",
    "print(doubledesc)"
   ]
  },
  {
   "cell_type": "code",
   "execution_count": 48,
   "id": "b1b5596f",
   "metadata": {},
   "outputs": [
    {
     "ename": "TypeError",
     "evalue": "can only concatenate str (not \"int\") to str",
     "output_type": "error",
     "traceback": [
      "\u001b[1;31m---------------------------------------------------------------------------\u001b[0m",
      "\u001b[1;31mTypeError\u001b[0m                                 Traceback (most recent call last)",
      "\u001b[1;32m<ipython-input-48-abdac454d8b6>\u001b[0m in \u001b[0;36m<module>\u001b[1;34m\u001b[0m\n\u001b[0;32m      3\u001b[0m \u001b[0mresult\u001b[0m\u001b[1;33m=\u001b[0m\u001b[1;36m100\u001b[0m\u001b[1;33m*\u001b[0m\u001b[1;36m1.10\u001b[0m\u001b[1;33m**\u001b[0m\u001b[1;36m7\u001b[0m\u001b[1;33m\u001b[0m\u001b[1;33m\u001b[0m\u001b[0m\n\u001b[0;32m      4\u001b[0m \u001b[1;31m#print the following statement\u001b[0m\u001b[1;33m\u001b[0m\u001b[1;33m\u001b[0m\u001b[1;33m\u001b[0m\u001b[0m\n\u001b[1;32m----> 5\u001b[1;33m \u001b[0mprint\u001b[0m\u001b[1;33m(\u001b[0m\u001b[1;34m\"I started with $\"\u001b[0m\u001b[1;33m+\u001b[0m\u001b[1;33m(\u001b[0m\u001b[0msavings\u001b[0m\u001b[1;33m)\u001b[0m\u001b[1;33m+\u001b[0m\u001b[1;34m\" and now have $\"\u001b[0m\u001b[1;33m+\u001b[0m\u001b[0mstr\u001b[0m\u001b[1;33m(\u001b[0m\u001b[0mresult\u001b[0m\u001b[1;33m)\u001b[0m\u001b[1;33m+\u001b[0m\u001b[1;34m\". Awesome!\"\u001b[0m\u001b[1;33m)\u001b[0m\u001b[1;33m\u001b[0m\u001b[1;33m\u001b[0m\u001b[0m\n\u001b[0m",
      "\u001b[1;31mTypeError\u001b[0m: can only concatenate str (not \"int\") to str"
     ]
    }
   ],
   "source": [
    "#given values of savings and result\n",
    "savings=100\n",
    "result=100*1.10**7\n",
    "#print the following statement\n",
    "print(\"I started with $\"+(savings)+\" and now have $\"+str(result)+\". Awesome!\")"
   ]
  },
  {
   "cell_type": "code",
   "execution_count": 51,
   "id": "b4f2f119",
   "metadata": {},
   "outputs": [
    {
     "name": "stdout",
     "output_type": "stream",
     "text": [
      "I started with $100 and now have $194.87171000000012. Awesome!\n"
     ]
    }
   ],
   "source": [
    "#fixing error in above block by using str\n",
    "print(\"I started with $\"+str(savings)+\" and now have $\"+str(result)+\". Awesome!\")"
   ]
  },
  {
   "cell_type": "code",
   "execution_count": 52,
   "id": "7f57c0cf",
   "metadata": {},
   "outputs": [
    {
     "name": "stdout",
     "output_type": "stream",
     "text": [
      "6.2831852\n"
     ]
    }
   ],
   "source": [
    "#giving value to pi_string\n",
    "pi_string=\"3.1415926\"\n",
    "#converting pi_string to float\n",
    "pi_float=float(pi_string)\n",
    "#mutiplying it by 2 and saving value in double_pi\n",
    "double_pi=2*pi_float\n",
    "#print value of double_pi\n",
    "print(double_pi)"
   ]
  },
  {
   "cell_type": "code",
   "execution_count": null,
   "id": "4ddf9202",
   "metadata": {},
   "outputs": [],
   "source": [
    "#checking which option will give error"
   ]
  },
  {
   "cell_type": "code",
   "execution_count": 33,
   "id": "250b6f66",
   "metadata": {},
   "outputs": [
    {
     "data": {
      "text/plain": [
       "'I can add integers, like 5 to strings.'"
      ]
     },
     "execution_count": 33,
     "metadata": {},
     "output_type": "execute_result"
    }
   ],
   "source": [
    "#option1\n",
    "\"I can add integers, like \"+str(5)+\" to strings.\""
   ]
  },
  {
   "cell_type": "code",
   "execution_count": 35,
   "id": "8fb0a831",
   "metadata": {},
   "outputs": [
    {
     "data": {
      "text/plain": [
       "'I said Hey Hey Hey!'"
      ]
     },
     "execution_count": 35,
     "metadata": {},
     "output_type": "execute_result"
    }
   ],
   "source": [
    "#option2\n",
    "\"I said \"+(\"Hey \"*2)+\"Hey!\""
   ]
  },
  {
   "cell_type": "code",
   "execution_count": 53,
   "id": "b619732b",
   "metadata": {},
   "outputs": [
    {
     "ename": "TypeError",
     "evalue": "can only concatenate str (not \"int\") to str",
     "output_type": "error",
     "traceback": [
      "\u001b[1;31m---------------------------------------------------------------------------\u001b[0m",
      "\u001b[1;31mTypeError\u001b[0m                                 Traceback (most recent call last)",
      "\u001b[1;32m<ipython-input-53-309a8df6ade9>\u001b[0m in \u001b[0;36m<module>\u001b[1;34m\u001b[0m\n\u001b[0;32m      1\u001b[0m \u001b[1;31m#option3\u001b[0m\u001b[1;33m\u001b[0m\u001b[1;33m\u001b[0m\u001b[1;33m\u001b[0m\u001b[0m\n\u001b[1;32m----> 2\u001b[1;33m \u001b[1;34m\"The correct answer to this multiple choice exercise is answer number\"\u001b[0m\u001b[1;33m+\u001b[0m\u001b[1;36m2\u001b[0m\u001b[1;33m\u001b[0m\u001b[1;33m\u001b[0m\u001b[0m\n\u001b[0m\u001b[0;32m      3\u001b[0m \u001b[1;31m#gives error\u001b[0m\u001b[1;33m\u001b[0m\u001b[1;33m\u001b[0m\u001b[1;33m\u001b[0m\u001b[0m\n",
      "\u001b[1;31mTypeError\u001b[0m: can only concatenate str (not \"int\") to str"
     ]
    }
   ],
   "source": [
    "#option3\n",
    "\"The correct answer to this multiple choice exercise is answer number\"+2\n",
    "#gives error"
   ]
  },
  {
   "cell_type": "code",
   "execution_count": 37,
   "id": "af4f26c7",
   "metadata": {},
   "outputs": [
    {
     "data": {
      "text/plain": [
       "1"
      ]
     },
     "execution_count": 37,
     "metadata": {},
     "output_type": "execute_result"
    }
   ],
   "source": [
    "#option4\n",
    "True+False"
   ]
  },
  {
   "cell_type": "code",
   "execution_count": 38,
   "id": "0a0eebdc",
   "metadata": {},
   "outputs": [],
   "source": [
    "##exercise_3"
   ]
  },
  {
   "cell_type": "code",
   "execution_count": 100,
   "id": "ea3bdde0",
   "metadata": {},
   "outputs": [
    {
     "name": "stdout",
     "output_type": "stream",
     "text": [
      "Enter a number:3\n",
      "3  is not even\n"
     ]
    }
   ],
   "source": [
    "#check if in is even or not\n",
    "\n",
    "#input a number\n",
    "n=int(input(\"Enter a number:\"))\n",
    "if n%2==0:\n",
    "        print(n,\" is Even\")\n",
    "else:\n",
    "    print(n,\" is not even\")"
   ]
  },
  {
   "cell_type": "code",
   "execution_count": 59,
   "id": "25c29f09",
   "metadata": {},
   "outputs": [
    {
     "name": "stdout",
     "output_type": "stream",
     "text": [
      "Enter temperature in degree celsius:30\n",
      "Temperature in Fahrenheit: 86.0\n"
     ]
    }
   ],
   "source": [
    "#converting temperature from degree celsius to Fahrenheit\n",
    "\n",
    "#input value of temperature in degree celsius\n",
    "Tc=float(input(\"Enter temperature in degree celsius:\"))\n",
    "#convert into Fahrenheit and print it\n",
    "Tf=(Tc*1.8)+32\n",
    "print(\"Temperature in Fahrenheit:\",Tf)"
   ]
  },
  {
   "cell_type": "code",
   "execution_count": 81,
   "id": "71cd6f1d",
   "metadata": {},
   "outputs": [
    {
     "name": "stdout",
     "output_type": "stream",
     "text": [
      "enter first side:4\n",
      "enter second side:3\n",
      "enter third side:6\n",
      "Area of triangle is: 5.332682251925386\n"
     ]
    }
   ],
   "source": [
    "#finding area of triangle with given sides\n",
    "\n",
    "#input three sides of a triangle\n",
    "a=float(input(\"enter first side:\"))\n",
    "b=float(input(\"enter second side:\"))\n",
    "c=float(input(\"enter third side:\"))\n",
    "#find semi-perimeter\n",
    "s=(a+b+c)/2\n",
    "#calculate area\n",
    "area=(s*(s-a)*(s-b)*(s-c))\n",
    "import math\n",
    "print(\"Area of triangle is:\",math.sqrt(area))"
   ]
  },
  {
   "cell_type": "code",
   "execution_count": 95,
   "id": "2300ee02",
   "metadata": {},
   "outputs": [
    {
     "name": "stdout",
     "output_type": "stream",
     "text": [
      "enter radius:2\n",
      "Circumference of a circle is: 12.566370614359172\n",
      "Area of circle is: 12.566370614359172\n"
     ]
    }
   ],
   "source": [
    "#find circumference and area of a circle with a given radius\n",
    "\n",
    "#input radius of circle\n",
    "import math\n",
    "r=float(input(\"enter radius:\"))\n",
    "#calculate circumference\n",
    "C=math.pi*2*r\n",
    "#calculate area\n",
    "area=math.pi*r*r\n",
    "#print circumference and area\n",
    "print(\"Circumference of a circle is:\",C)\n",
    "print(\"Area of circle is:\",area)\n"
   ]
  },
  {
   "cell_type": "code",
   "execution_count": 102,
   "id": "96ab1e12",
   "metadata": {},
   "outputs": [
    {
     "name": "stdout",
     "output_type": "stream",
     "text": [
      "Enter an integer:12\n",
      "12  is not a multiple of 5\n"
     ]
    }
   ],
   "source": [
    "#check whether given integer is multiple of 5\n",
    "\n",
    "#input an integer\n",
    "num=int(input(\"Enter an integer:\"))\n",
    "if num%5==0:\n",
    "    print(num,\" is a multiple of 5\")\n",
    "else:\n",
    "    print(num,\" is not a multiple of 5\")"
   ]
  },
  {
   "cell_type": "code",
   "execution_count": null,
   "id": "8f20548e",
   "metadata": {},
   "outputs": [],
   "source": []
  }
 ],
 "metadata": {
  "kernelspec": {
   "display_name": "Python 3",
   "language": "python",
   "name": "python3"
  },
  "language_info": {
   "codemirror_mode": {
    "name": "ipython",
    "version": 3
   },
   "file_extension": ".py",
   "mimetype": "text/x-python",
   "name": "python",
   "nbconvert_exporter": "python",
   "pygments_lexer": "ipython3",
   "version": "3.8.8"
  }
 },
 "nbformat": 4,
 "nbformat_minor": 5
}
