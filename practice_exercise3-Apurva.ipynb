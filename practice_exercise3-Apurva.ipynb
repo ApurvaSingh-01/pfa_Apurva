{
 "cells": [
  {
   "cell_type": "code",
   "execution_count": 46,
   "id": "3cb1011a",
   "metadata": {},
   "outputs": [],
   "source": [
    "#EXERCISE ON LISTS AND STRINGS\n"
   ]
  },
  {
   "cell_type": "code",
   "execution_count": 47,
   "id": "59978dc5",
   "metadata": {},
   "outputs": [],
   "source": [
    "##question 1"
   ]
  },
  {
   "cell_type": "code",
   "execution_count": 30,
   "id": "f26f7e66",
   "metadata": {},
   "outputs": [
    {
     "name": "stdout",
     "output_type": "stream",
     "text": [
      "No. of elements in list:5\n",
      "Enter elements:1\n",
      "Enter elements:2\n",
      "Enter elements:3\n",
      "Enter elements:4\n",
      "Enter elements:5\n",
      "['1', '2', '3', '4', '5']\n",
      "['5', '2', '3', '4', '1']\n"
     ]
    }
   ],
   "source": [
    "#create empty list, append input elements and then change the index of the element\n",
    "\n",
    "l=[]\n",
    "#input number of elements and the elements in the list\n",
    "a=int(input(\"No. of elements in list:\"))\n",
    "for b in range(a):\n",
    "    i=input(\"Enter elements:\")\n",
    "    l.append(i)\n",
    "#printing the appended list\n",
    "print(l)\n",
    "#assigning variables to first and last element of the list\n",
    "frst=l[0]\n",
    "lst=len(l)-1\n",
    "#changing first and last element of the list with each other\n",
    "l[0]=l[lst]\n",
    "l[lst]=frst\n",
    "#printing the new list\n",
    "print(l)"
   ]
  },
  {
   "cell_type": "code",
   "execution_count": 33,
   "id": "a944859e",
   "metadata": {},
   "outputs": [],
   "source": [
    "##question 2"
   ]
  },
  {
   "cell_type": "code",
   "execution_count": 31,
   "id": "f73fa5c9",
   "metadata": {},
   "outputs": [
    {
     "name": "stdout",
     "output_type": "stream",
     "text": [
      "5\n"
     ]
    }
   ],
   "source": [
    "#finding the length of a given list\n",
    "\n",
    "lst=[1,4,5,7,8]\n",
    "print(len(lst))"
   ]
  },
  {
   "cell_type": "code",
   "execution_count": 32,
   "id": "595dd40e",
   "metadata": {},
   "outputs": [],
   "source": [
    "##question 3"
   ]
  },
  {
   "cell_type": "code",
   "execution_count": 42,
   "id": "4726ce7b",
   "metadata": {},
   "outputs": [
    {
     "name": "stdout",
     "output_type": "stream",
     "text": [
      "['Geeks', 'Are', 'For', 'Geeks']\n",
      "Length of the list is: 4\n"
     ]
    }
   ],
   "source": [
    "#make an empty list, appending given strings to the list and finding its length\n",
    "\n",
    "x=list()\n",
    "#appending elements\n",
    "x.append(\"Geeks\")\n",
    "x.append(\"Are\")\n",
    "x.append(\"For\")\n",
    "x.append(\"Geeks\")\n",
    "print(x)\n",
    "#finding length of the list\n",
    "print(\"Length of the list is:\",len(x))"
   ]
  },
  {
   "cell_type": "code",
   "execution_count": 39,
   "id": "e951ff45",
   "metadata": {},
   "outputs": [],
   "source": [
    "##question 4"
   ]
  },
  {
   "cell_type": "code",
   "execution_count": 45,
   "id": "f270e093",
   "metadata": {},
   "outputs": [
    {
     "name": "stdout",
     "output_type": "stream",
     "text": [
      "Enter first element:55\n",
      "Enter second element:50\n",
      "Maximum no. in list is  55 and minimum no. in list is  50\n"
     ]
    }
   ],
   "source": [
    "#inputting elements to an empty list and finding maximum and minimum among them\n",
    "\n",
    "\n",
    "i=[]\n",
    "m=input(\"Enter first element:\")\n",
    "n=input(\"Enter second element:\")\n",
    "#appending inputted elements to the list\n",
    "i.append(m)\n",
    "i.append(n)\n",
    "#finding the maximum and minimum\n",
    "j=max(i)\n",
    "k=min(i)\n",
    "#printing maximum and minimum\n",
    "print(\"Maximum no. in list is \",j,\"and minimum no. in list is \",k)"
   ]
  },
  {
   "cell_type": "code",
   "execution_count": null,
   "id": "5c0ed84a",
   "metadata": {},
   "outputs": [],
   "source": []
  }
 ],
 "metadata": {
  "kernelspec": {
   "display_name": "Python 3",
   "language": "python",
   "name": "python3"
  }
 },
 "nbformat": 4,
 "nbformat_minor": 5
}
